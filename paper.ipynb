{
 "cells": [
  {
   "metadata": {},
   "cell_type": "raw",
   "source": [
    "\\begin{flushleft}\n",
    "{\\Large\n",
    "\\textbf\\newline{PANORAMA Paper}\n",
    "}\n",
    "\\newline\n",
    "% authors go here:\n",
    "\\\\\n",
    "Jérôme Arnoux\\textsuperscript{1,*},\n",
    "Jean Mainguy\\textsuperscript{2},\n",
    "Laura Bry\\textsuperscript{1},\n",
    "Quentin Fernandez de Grado\\textsuperscript{1},\n",
    "Vallenet David\\textsuperscript{1},\n",
    "Alexandra Calteau\\textsuperscript{1},\n",
    "\\\\\n",
    "\\bigskip\n",
    "\\bf{1} LABGeM, Génomique Métabolique, CEA, Genoscope, Institut François Jacob, Université d’Évry, Université Paris-Saclay, CNRS\n",
    "\\\\\n",
    "\\bigskip\n",
    "* jarnoux@genoscope.cns.fr\n",
    "\\end{flushleft}"
   ],
   "id": "d04573df1243835a"
  },
  {
   "metadata": {},
   "cell_type": "markdown",
   "source": [
    "# Abstrasct {-}\n",
    "\n",
    "BlaBla\n"
   ],
   "id": "2b5c99ec532cb5b1"
  },
  {
   "metadata": {},
   "cell_type": "markdown",
   "source": [
    "\\linenumbers \n",
    "\n",
    "# Introduction\n",
    "\n",
    "BlaBla"
   ],
   "id": "6f4127bb36c78b50"
  },
  {
   "metadata": {},
   "cell_type": "code",
   "outputs": [],
   "execution_count": null,
   "source": "",
   "id": "9549b99c4a8f91b5"
  },
  {
   "metadata": {},
   "cell_type": "markdown",
   "source": [
    "# Materials and methods\n",
    "\n",
    "## Pangenome gene families functional annotation\n",
    "\n",
    "PANORAMA can annotate gene families from a TSV file or an HMM database. The input database contains protein-profiles associated to a functional annotation for the gene families. The representative protein of each gene family will be aligned to the HMMs with the hmmsearch method of pyHMMER \\cite{larralde_pyhmmer_2023}."
   ],
   "id": "a749ea00575aa621"
  },
  {
   "metadata": {},
   "cell_type": "code",
   "outputs": [],
   "execution_count": null,
   "source": "",
   "id": "6bb646322428a9df"
  },
  {
   "metadata": {},
   "cell_type": "markdown",
   "source": [
    "## Biological systems detection\n",
    "### System modeling"
   ],
   "id": "31755a24b371e615"
  },
  {
   "metadata": {},
   "cell_type": "markdown",
   "source": "### System detection in pangenome",
   "id": "f7d37b95b9aca5fe"
  },
  {
   "metadata": {},
   "cell_type": "markdown",
   "source": [
    "## Comparative pangenomics\n",
    "### Gene families similarites computation"
   ],
   "id": "b6cef2bfc60121bb"
  },
  {
   "metadata": {},
   "cell_type": "markdown",
   "source": "### Conserved structure identification",
   "id": "c191e0fcd6f04ba7"
  },
  {
   "metadata": {},
   "cell_type": "markdown",
   "source": [
    "## Preparation of dataset\n",
    "### Pseudomonas Aeruginosa\n"
   ],
   "id": "1e95d078f07dcc82"
  },
  {
   "metadata": {},
   "cell_type": "markdown",
   "source": "### E.Coli & Neisseria meningitidis",
   "id": "8b8aa24f8e0d7070"
  },
  {
   "metadata": {},
   "cell_type": "markdown",
   "source": [
    "# Results\n",
    "## Benchmark\n"
   ],
   "id": "ede9047f77d2ca33"
  },
  {
   "metadata": {},
   "cell_type": "markdown",
   "source": [
    "### Computation time\n",
    "\n"
   ],
   "id": "2a6201b3a0c32f"
  },
  {
   "metadata": {},
   "cell_type": "markdown",
   "source": "### Antiphage defense systems detection\n",
   "id": "b23c4c0c1f2439b7"
  },
  {
   "metadata": {},
   "cell_type": "markdown",
   "source": "## P.Aeruginosa",
   "id": "605158226e9eae04"
  },
  {
   "metadata": {},
   "cell_type": "markdown",
   "source": "## Comparative pangenomics",
   "id": "ec00bbd75ee3745a"
  },
  {
   "metadata": {},
   "cell_type": "markdown",
   "source": "# Discussion",
   "id": "865333ad4503aa57"
  },
  {
   "metadata": {},
   "cell_type": "markdown",
   "source": "# Conclusion",
   "id": "f38904fe32dca696"
  },
  {
   "metadata": {},
   "cell_type": "markdown",
   "source": "# Acknowledgment",
   "id": "b7947c9fc3ac7de3"
  },
  {
   "metadata": {},
   "cell_type": "markdown",
   "source": [
    "\\nolinenumbers\n",
    "\n",
    "\\section*{References}\n",
    "\n",
    "\\bibliography{references} \n",
    "\\bibliographystyle{abbrv}"
   ],
   "id": "bae176c677276c7f"
  }
 ],
 "metadata": {
  "kernelspec": {
   "display_name": "Python 3 (ipykernel)",
   "language": "python",
   "name": "python3"
  },
  "language_info": {
   "codemirror_mode": {
    "name": "ipython",
    "version": 3
   },
   "file_extension": ".py",
   "mimetype": "text/x-python",
   "name": "python",
   "nbconvert_exporter": "python",
   "pygments_lexer": "ipython3",
   "version": "3.10.13"
  }
 },
 "nbformat": 4,
 "nbformat_minor": 5
}
